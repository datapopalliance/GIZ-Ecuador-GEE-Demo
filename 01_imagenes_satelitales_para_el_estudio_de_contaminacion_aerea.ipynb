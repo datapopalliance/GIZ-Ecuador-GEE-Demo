{
 "cells": [
  {
   "cell_type": "markdown",
   "metadata": {
    "slideshow": {
     "slide_type": "slide"
    }
   },
   "source": [
    "## Imágenes Satelitales para el estudio de contaminación aérea\n",
    "<center><img src='./Images/img.png'></center>"
   ]
  },
  {
   "cell_type": "markdown",
   "metadata": {
    "slideshow": {
     "slide_type": "slide"
    }
   },
   "source": [
    " ![](./Images/img_01.jpg)"
   ]
  },
  {
   "cell_type": "markdown",
   "metadata": {
    "slideshow": {
     "slide_type": "slide"
    }
   },
   "source": [
    "## Introducción \n",
    "\n",
    "* El objetivo de esta demo es explorar las posibilidades de análisis de imágenes satelitales que se pueden hacer con la plataforma de Earth Engine de Google\n",
    "\n",
    "\n",
    "* Particularmente, nos enfocaremos en entender el funcionamiento de la plataforma y su API\n",
    "\n",
    "\n",
    "* Además, se dará una pequeña introducción a las exploraciones y análisis que se pueden hacer con el satélite Seninel-5p con ayuda de Earth Engine"
   ]
  },
  {
   "cell_type": "markdown",
   "metadata": {
    "slideshow": {
     "slide_type": "subslide"
    }
   },
   "source": [
    "* El orden de nuestra presentación será la siguiente\n",
    "\n",
    "    1) Repasaremos que es la percepción remota y daremos algunos ejemplos de análisis que se pueden hacer con ayuda de imágenes satelitales\n",
    "    \n",
    "    2) Se dará una breve introducción técnica a Google Earth Engine, su API y su editor de código\n",
    "    \n",
    "    3) Se explicará qué es el satélite Sentinel-5p y su utilidad\n",
    "    \n",
    "    4) Se explorará una serie de scripts para realizar visualizaciones y análisis de imágenes satelitales en Earth Engine\n",
    "    \n",
    "    5) Se comentarán, brevemente, otras alternativas para realizar estos análisis "
   ]
  },
  {
   "cell_type": "markdown",
   "metadata": {
    "slideshow": {
     "slide_type": "slide"
    }
   },
   "source": [
    "## Percepción Remota\n",
    "\n",
    " ![](./Images/img_02.jpg)\n",
    " \n",
    " *Imagen de Gis Geography*"
   ]
  },
  {
   "cell_type": "markdown",
   "metadata": {
    "slideshow": {
     "slide_type": "subslide"
    }
   },
   "source": [
    "* El aprendizaje remoto es la ciencia de obtener propiedades físicas de un área sin estar ahí \n",
    "\n",
    "\n",
    "* Esto pemite al analista o usuario capturar, visualizar y analizar distintos objetos y características de la superficie terrestre\n",
    "\n",
    "\n",
    "* Estas características son capturadas por distintas tecnologías y sensores. Las tecnologías más comunes son satélites y drones\n",
    "\n",
    "\n",
    "* La mayoría de las ciencias de la tierra (hidrología, meteorología, ecología, etc), utilizan estás tecnologías para hacer distintos estudios"
   ]
  },
  {
   "cell_type": "markdown",
   "metadata": {
    "slideshow": {
     "slide_type": "subslide"
    }
   },
   "source": [
    "### Imágenes satelitales\n",
    "\n",
    "* Muchas de las tecnologías de aprendizaje remoto están diseñadas para capturar imágenes\n",
    "\n",
    "\n",
    "* Dependiendo de las tecnologías y especificaciones del satélite, varía la frecuencia con la que se obtienen las imágenes, su cobertura, calidad, y las propiedades que puede capturar\n",
    "\n",
    "\n",
    "* Sin embargo, la obtención de imágenes no sólo está limitada por las características de la tecnología. Distintos fenómenos naturales como las nubes, la lluvia, y la nieve pueden dificultar su procesamiento\n",
    "\n",
    "\n",
    "* **OJO**: usualmente estas imágenes contienen más de los 3 canales RGB que estamos acostumbrados a observar en una imágen .PNG o .JPG. Una imágen de satélite puede contener canales de máscara, canales con información de la radiación infrarroja, de obsevaciones de algún tipo de gas captado en el área representada por un pixel, etc"
   ]
  },
  {
   "cell_type": "markdown",
   "metadata": {
    "slideshow": {
     "slide_type": "slide"
    }
   },
   "source": [
    "## Ejemplos de aplicaciones\n",
    "\n",
    "* Existen una inmensa cantidad de información que pueden capturar las imágenes satelitales (ver catálogo de datos de Google Earth Engine)\n",
    "\n",
    "\n",
    "* Una de las aplicaciones más comunes, es usar los datos de un satélite de monitoreo de tierra para calcular el **Índice de Vegetación de Diferencia Normalizada** o **NDVI**\n",
    "\n",
    "\n",
    "* Sin embargo, también se pueden estudiar fenómenos como la economía (iluminación nocturna), el desplazamiento humano (Objetivos y métas de desarrollo sostenible), la contaminación, entre muchos otros  "
   ]
  },
  {
   "cell_type": "markdown",
   "metadata": {
    "slideshow": {
     "slide_type": "subslide"
    }
   },
   "source": [
    " ![](./Images/ndvi_img_03.jpg)\n",
    " \n",
    " *Imagen de Earth Observing System*"
   ]
  },
  {
   "cell_type": "markdown",
   "metadata": {
    "slideshow": {
     "slide_type": "subslide"
    }
   },
   "source": [
    " ![](./Images/img_04.png)\n",
    " \n",
    " *Imagen de Research Gate*"
   ]
  },
  {
   "cell_type": "markdown",
   "metadata": {
    "slideshow": {
     "slide_type": "slide"
    }
   },
   "source": [
    "## Imágenes satelitales y aprendizaje de máquina\n",
    "\n",
    " ![](./Images/img_05.png)\n",
    " \n",
    " *Imagen de IMED 2018: An intro to Remote Sensing and Machine Learning*"
   ]
  },
  {
   "cell_type": "markdown",
   "metadata": {
    "slideshow": {
     "slide_type": "subslide"
    }
   },
   "source": [
    "* Debido a la gran cantidad de información que se genera con las imágenes satelitales, es muy difícil poder examinar cada una de ellas a detalle \n",
    "\n",
    "\n",
    "* Con el auge del aprendizaje de máquina y el deep learning, se han desarrollado modelos para poder examinar esta información de manera automatizada y poder detectar problemas o inconvenientes en una imágen de forma eficiente\n",
    "\n",
    "\n",
    "* Gran cantidad de algoritmos para analizar imágenes son supervisados (necesitan etiquetado previo) y trabajan por pixel (incluso por canal), pero también existen algoritmos no supervisados, algoritmos que trabajan con la imágen completa o con resúmenes de la imagen \n",
    "\n",
    "\n",
    "* Algunos ejemplos típicos de problemas que resuelven son detectar anomalías en un plantío, detectar nubes o ruido en una imagen, clasificar la imagen como vegetación o superficie consturida, entender que porcentaje de una imagen se explica por otras variables, etc   "
   ]
  },
  {
   "cell_type": "markdown",
   "metadata": {
    "slideshow": {
     "slide_type": "slide"
    }
   },
   "source": [
    "## Google Earth Engine\n",
    "\n",
    "* **Earth Engine** (**EE**) es una plataforma para análisis científico y visualización de datos geoespaciales \n",
    "\n",
    "\n",
    "* Está pensada para ser usada con fines académicos y por organizaciones gubernamentales y sin fines de lucro\n",
    "\n",
    "\n",
    "* Su propósito es proveer al usuario con datos geoespaciales que ayuden a resolver algunos de los desafíos más grandes con los que se enfrentra la humanidad \n",
    "\n",
    "\n",
    "* Deforestación, cambio climático, sequía, seguridad alimenticia global y sustentabilidad son algunos de los problemas que pueden ayudar a analizar y resolver los datos provenientes de esta plataforma         "
   ]
  },
  {
   "cell_type": "markdown",
   "metadata": {
    "slideshow": {
     "slide_type": "subslide"
    }
   },
   "source": [
    "* Earth Engine gestiona y almacena imágenes satelitales, de forma pública, que incluyen datos historícos de distintas fuentes. Estos datos pueden ir hasta 40 años atrás, dependiendo de su disponibilidad\n",
    "\n",
    "\n",
    "* Las imágenes se actualizan diariamente, sujeto a su disponibilidad, y están disponibles para hacer análisis de forma masiva\n",
    "\n",
    "\n",
    "* Este conjunto de datos viene acompañado de una interfaz de programación de aplicacione (API) y de muchas otras herramientas y guías para optimizar la realización de análisis  "
   ]
  },
  {
   "cell_type": "markdown",
   "metadata": {
    "slideshow": {
     "slide_type": "subslide"
    }
   },
   "source": [
    "### Catálogo de datos\n",
    " ![](./Images/img_102.png)"
   ]
  },
  {
   "cell_type": "markdown",
   "metadata": {
    "slideshow": {
     "slide_type": "subslide"
    }
   },
   "source": [
    "* Algunos de los satélites a los que tienes acceso con EE:\n",
    "\n",
    "    * **Landsat 4-8**, (alta resolución, monitoreo de tierra y agricultura)\n",
    "    * **Sentinel-1** y **Sentinel-2**, (alta resolución, monitoreo de tierra y agricultura)\n",
    "    * **Sentinel-3**, (monitoreo de clima)\n",
    "    * **Sentinel-5p**, (monitoreo de calidad de aire)\n",
    "    * **MODIS** (resolución moderada, monitoreo de tierra y agricultura)\n",
    "    * Y muchos otros\n",
    "    "
   ]
  },
  {
   "cell_type": "markdown",
   "metadata": {
    "slideshow": {
     "slide_type": "subslide"
    }
   },
   "source": [
    "* Algunos de los fenómenos que se pueden estudiar:\n",
    "    * Flujo de incendios y erupciones volcánicas\n",
    "    * Elevación terrestre\n",
    "    * Iluminación nocturna\n",
    "    * etc\n",
    "\n",
    "\n",
    "* Además, se pueden sugerir conjuntos de datos para que los incluyan en la plataforma. Siempre y cuando, estos conjuntos de datos sirvan para analizar los problemas que quiere ayudar a combatir este proyecto\n",
    "\n",
    "\n",
    "* Para explorar el catálogo con mayor profundidad, entren al siguiente [link](https://developers.google.com/earth-engine/datasets)"
   ]
  },
  {
   "cell_type": "markdown",
   "metadata": {
    "slideshow": {
     "slide_type": "slide"
    }
   },
   "source": [
    "## API\n",
    "\n",
    "<img src=\"./Images/img_103.png\" alt=\"Drawing\" style=\"width: 600px;\"/>\n"
   ]
  },
  {
   "cell_type": "markdown",
   "metadata": {
    "slideshow": {
     "slide_type": "subslide"
    }
   },
   "source": [
    "* Desarrollado en **JavaScript** (con módulo en **Python**)\n",
    "\n",
    "\n",
    "* Usa computo en paralelo: trabaja internamente con lógica **MapReduce** \n",
    "\n",
    "\n",
    "* Los servidores de Google se encarga de todo el trabajo\n",
    "\n",
    "\n",
    "* Trabaja optimamente con la sección del mapa que va a utilizar\n",
    "\n",
    "\n",
    "* Está construido de forma muy similar a **Tensorflow**"
   ]
  },
  {
   "cell_type": "markdown",
   "metadata": {
    "slideshow": {
     "slide_type": "subslide"
    }
   },
   "source": [
    "* Los tipos de datos principales que construye EE:\n",
    "    \n",
    "    * **Geometry**, (vector, (point, polygon, line)).\n",
    "    \n",
    "    * **Feature**, (Geometry con Properties)\n",
    "    \n",
    "    * **FeatureCollection**, (conjunto de Features)\n",
    "    \n",
    "    * **Image**, (raster, conjunto de bandas georeferenciadas)\n",
    "    \n",
    "    * **ImageCollection**, (conjuto o serie de Images)\n",
    "    \n",
    "    \n",
    "* Otros conceptos importantes:\n",
    "    * **map** (no confundir con **Map**)\n",
    "    * **reduce**\n",
    "    * **filter**\n",
    "    * **join**\n",
    "    * **chart**"
   ]
  },
  {
   "cell_type": "markdown",
   "metadata": {
    "slideshow": {
     "slide_type": "subslide"
    }
   },
   "source": [
    "### Ejemplo (Tutorial \"Introduction to Earth Engine\")\n",
    "\n",
    " ![](./Images/img_104.png)"
   ]
  },
  {
   "cell_type": "markdown",
   "metadata": {
    "slideshow": {
     "slide_type": "subslide"
    }
   },
   "source": [
    " ![](./Images/img_105.png)"
   ]
  },
  {
   "cell_type": "markdown",
   "metadata": {
    "slideshow": {
     "slide_type": "subslide"
    }
   },
   "source": [
    " ![](./Images/img_106.png)"
   ]
  },
  {
   "cell_type": "markdown",
   "metadata": {
    "slideshow": {
     "slide_type": "subslide"
    }
   },
   "source": [
    " ![](./Images/img_107.png)"
   ]
  },
  {
   "cell_type": "markdown",
   "metadata": {
    "slideshow": {
     "slide_type": "subslide"
    }
   },
   "source": [
    " ![](./Images/img_108.png)"
   ]
  },
  {
   "cell_type": "markdown",
   "metadata": {
    "slideshow": {
     "slide_type": "subslide"
    }
   },
   "source": [
    " ![](./Images/img_109.png)"
   ]
  },
  {
   "cell_type": "markdown",
   "metadata": {
    "slideshow": {
     "slide_type": "subslide"
    }
   },
   "source": [
    " ![](./Images/img_110.png)"
   ]
  },
  {
   "cell_type": "markdown",
   "metadata": {
    "slideshow": {
     "slide_type": "subslide"
    }
   },
   "source": [
    "### Algoritmos especializados y aprendizaje de máquina\n",
    "\n",
    "* Como parte de su API, tiene funciones especilizadas para poder usar algoritmos no supervisados y supervisados de clasificación\n",
    "\n",
    "\n",
    "* Cuenta con algoritmos y funciones de Tensorflow (redes neuronales)\n",
    "\n",
    "\n",
    "* Además, tiene funciones especializadas para Landsat y Sentinel (calculo de NDVI, SAVI, Reflectancia, etc)\n",
    "\n",
    "\n",
    "* Para más información, visiten el siguiente [link](https://developers.google.com/earth-engine/guides)"
   ]
  },
  {
   "cell_type": "markdown",
   "metadata": {
    "slideshow": {
     "slide_type": "slide"
    }
   },
   "source": [
    "## Earth Engine (Editor de código)\n",
    "\n",
    "* Desarollado en JavaScript\n",
    "\n",
    "\n",
    "* Contiene varias herramientas para facilitar la creacion de imágenes, Geométricas, Compartir código e inspeccionarlo (lo veremos con más detalle en los ejemplos)\n",
    "\n",
    "\n",
    " ![](./Images/img_11.png)"
   ]
  },
  {
   "cell_type": "markdown",
   "metadata": {
    "slideshow": {
     "slide_type": "slide"
    }
   },
   "source": [
    "## Sentinel-5 Precursor\n",
    "\n",
    "* Este es el satélite de nuestro interés\n",
    "\n",
    "\n",
    "* La serie de satélites Sentinel-5 pertenece al programa Copérnico de la agencia espacial europea \n",
    "\n",
    "\n",
    "* El satélite está encargado de monitorear la contaminación atmosférica con ayuda de un instrumento de monitorización atmosférica (Tropomi)\n",
    "\n",
    "\n",
    "* Fue lanzado el 13 de octubre del 2017 y tiene datos de todos los contaminantes que rastrea desde marzo del 2019 (algunos contaminantes se pueden observar desde antes)\n"
   ]
  },
  {
   "cell_type": "markdown",
   "metadata": {
    "slideshow": {
     "slide_type": "subslide"
    }
   },
   "source": [
    "* Este satélite cuenta con [dos productos](https://sentinel.esa.int/web/sentinel/missions/sentinel-5p/data-products): Level-1B (L1B) y Level-2 (L2)\n",
    "\n",
    "\n",
    "* El producto L2 puede monitorear gases como el ozono, metano, aerosol, monóxido de carbono, NO2 y SO2\n",
    "\n",
    "\n",
    "* Particularmente, las bandas de Sentinel 5p L2 registran valores agregados por tiempo, no por latitud y longitud. Como EE procesa los datos en forma de mapas, EE creó una nuevo producto, el L3, para que los índices puedan manipularse por zonas (Geometry)\n",
    "\n",
    "\n",
    "* Como dato curioso, la disminución en emisiones de N02 que se detectó en China cuando empezó la cuarentena del Coronavirus, fue observada con ayuda de este satélite"
   ]
  },
  {
   "cell_type": "markdown",
   "metadata": {
    "slideshow": {
     "slide_type": "slide"
    }
   },
   "source": [
    "## Código\n",
    "\n",
    "* https://code.earthengine.google.com/?accept_repo=users/jbonilla/demo"
   ]
  },
  {
   "cell_type": "markdown",
   "metadata": {
    "slideshow": {
     "slide_type": "slide"
    }
   },
   "source": [
    "## Otras alternativas"
   ]
  },
  {
   "cell_type": "markdown",
   "metadata": {
    "slideshow": {
     "slide_type": "subslide"
    }
   },
   "source": [
    "### Earth Engine para Python\n",
    "\n",
    "* En caso de que se sientan más comodos con Python, este lenguaje de programación tiene un módulo de EE\n",
    "\n",
    "\n",
    "* Los pasos para su instalación se encuentran en el siguiente [link](https://developers.google.com/earth-engine/guides/python_install) y requieren llaves generadas por tu cuenta con suscripción a Google Earth Engine\n",
    "\n",
    "\n",
    "* Aunque es muy similar a el API de JavaScript, debido a las peculiaridades de python algunos métodos pueden tener diferente sintaxis\n",
    "\n",
    "\n",
    "* La mayor desventaja que tiene esta opción es que la interactividad que ganas con el editor de código de Google se pierde, y lograr las mismas visualizaciones en un Jupyter Notebook puede ser muy complicado. Sin embargo, si tu fin es entrenar modelos y no general visualizaciones, Python es una muy buena opción\n",
    "\n",
    "\n",
    "* **NOTA**: el manual de uso del API está escrito para JavaScript, esta puede ser otra limitante al usar Python "
   ]
  },
  {
   "cell_type": "markdown",
   "metadata": {
    "slideshow": {
     "slide_type": "subslide"
    }
   },
   "source": [
    "### Copernicus Open Acess Hub y Sentinelsat\n",
    "\n",
    "* Si por alguna razón no se sienten conformes con depender de Google o quisieran algo más adecuado para Python o R, existen otras alternativas\n",
    "\n",
    "\n",
    "* [Copernicus Open Access Hub](https://scihub.copernicus.eu/) tiene todas las imágenes de Sentinel y Landsat con accesso gratuito\n",
    "\n",
    "\n",
    "* Existen librerías como [Sentinelsat](https://sentinelsat.readthedocs.io/en/stable/) que están hechas para manipular con Python imágenes provenientes de estas fuentes. Añaido a esto, muchos de los algoritmos que desarrolló Google para manipular los datos estań construidos con librerías de código abierto en Python y JavaScript ([harpconvert](https://cdn.rawgit.com/stcorp/harp/master/doc/html/harpconvert.html), por ejemplo)\n",
    "\n",
    "\n",
    "* Además, muchas de las bases de datos que usa EE se encuentran de forma gratuita en otras fuentes y páginas "
   ]
  }
 ],
 "metadata": {
  "celltoolbar": "Slideshow",
  "kernelspec": {
   "display_name": "Python 3",
   "language": "python",
   "name": "python3"
  },
  "language_info": {
   "codemirror_mode": {
    "name": "ipython",
    "version": 3
   },
   "file_extension": ".py",
   "mimetype": "text/x-python",
   "name": "python",
   "nbconvert_exporter": "python",
   "pygments_lexer": "ipython3",
   "version": "3.7.9"
  }
 },
 "nbformat": 4,
 "nbformat_minor": 4
}
